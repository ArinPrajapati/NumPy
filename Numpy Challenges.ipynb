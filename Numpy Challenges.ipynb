{
 "cells": [
  {
   "cell_type": "markdown",
   "id": "e752b864",
   "metadata": {},
   "source": [
    "### NumPy Challenges:"
   ]
  },
  {
   "cell_type": "markdown",
   "id": "f63c1d42",
   "metadata": {},
   "source": [
    "#####  Array Manipulation:\n",
    "Create a NumPy array and perform operations like reshaping, slicing, and indexing."
   ]
  },
  {
   "cell_type": "code",
   "execution_count": 2,
   "id": "c40975b7",
   "metadata": {},
   "outputs": [],
   "source": [
    "import numpy as np"
   ]
  },
  {
   "cell_type": "code",
   "execution_count": 12,
   "id": "c1cb66ad",
   "metadata": {},
   "outputs": [],
   "source": [
    "# create a Numpy array\n",
    "\n",
    "arr = np.array([1,2,3,4,5,6,7,8,9])"
   ]
  },
  {
   "cell_type": "code",
   "execution_count": 13,
   "id": "873f057b",
   "metadata": {},
   "outputs": [
    {
     "data": {
      "text/plain": [
       "array([[1, 2, 3],\n",
       "       [4, 5, 6],\n",
       "       [7, 8, 9]])"
      ]
     },
     "execution_count": 13,
     "metadata": {},
     "output_type": "execute_result"
    }
   ],
   "source": [
    "# reshape the array to 3x3 martix\n",
    "arr.reshape(3,3) "
   ]
  },
  {
   "cell_type": "code",
   "execution_count": 20,
   "id": "56d1e1a0",
   "metadata": {},
   "outputs": [
    {
     "data": {
      "text/plain": [
       "array([3, 4, 5])"
      ]
     },
     "execution_count": 20,
     "metadata": {},
     "output_type": "execute_result"
    }
   ],
   "source": [
    "# Slice the array to get subarray\n",
    "arr[2:5]\n"
   ]
  },
  {
   "cell_type": "code",
   "execution_count": 22,
   "id": "8fc90ff0",
   "metadata": {},
   "outputs": [
    {
     "data": {
      "text/plain": [
       "9"
      ]
     },
     "execution_count": 22,
     "metadata": {},
     "output_type": "execute_result"
    }
   ],
   "source": [
    "# indexing to access specific elements \n",
    "elements = arr[8]\n",
    "elements"
   ]
  },
  {
   "cell_type": "markdown",
   "id": "4dac238c",
   "metadata": {},
   "source": [
    "####  Random Number Generation\n",
    "Generate a random matrix and perform statistical operations like mean, median, and standard deviation."
   ]
  },
  {
   "cell_type": "code",
   "execution_count": 23,
   "id": "3c81e331",
   "metadata": {},
   "outputs": [],
   "source": [
    "# random matrix\n",
    "rm = np.random.rand(3,4)"
   ]
  },
  {
   "cell_type": "code",
   "execution_count": 24,
   "id": "b9c60972",
   "metadata": {},
   "outputs": [
    {
     "data": {
      "text/plain": [
       "array([[0.16600905, 0.30753576, 0.38056493, 0.15987656],\n",
       "       [0.92029856, 0.38297399, 0.96042837, 0.49187787],\n",
       "       [0.55749809, 0.08819346, 0.46584955, 0.32321189]])"
      ]
     },
     "execution_count": 24,
     "metadata": {},
     "output_type": "execute_result"
    }
   ],
   "source": [
    "rm"
   ]
  },
  {
   "cell_type": "code",
   "execution_count": 25,
   "id": "671dacbb",
   "metadata": {},
   "outputs": [
    {
     "data": {
      "text/plain": [
       "0.4336931743840966"
      ]
     },
     "execution_count": 25,
     "metadata": {},
     "output_type": "execute_result"
    }
   ],
   "source": [
    "np.mean(rm)\n",
    "#  find the mena of array"
   ]
  },
  {
   "cell_type": "code",
   "execution_count": 26,
   "id": "34959c16",
   "metadata": {},
   "outputs": [
    {
     "data": {
      "text/plain": [
       "0.38176945966946524"
      ]
     },
     "execution_count": 26,
     "metadata": {},
     "output_type": "execute_result"
    }
   ],
   "source": [
    "np.median(rm)\n",
    "# find the median of matrx"
   ]
  },
  {
   "cell_type": "code",
   "execution_count": 27,
   "id": "95a9f743",
   "metadata": {},
   "outputs": [
    {
     "data": {
      "text/plain": [
       "0.26354935516849887"
      ]
     },
     "execution_count": 27,
     "metadata": {},
     "output_type": "execute_result"
    }
   ],
   "source": [
    "np.std(rm)\n",
    "# standard devision of the matrix"
   ]
  },
  {
   "cell_type": "markdown",
   "id": "71713e5b",
   "metadata": {},
   "source": [
    "### Element-wise Operations:\n",
    "Apply element-wise operations like addition, subtraction, multiplication, and division to two NumPy arrays."
   ]
  },
  {
   "cell_type": "code",
   "execution_count": 28,
   "id": "3e6efe30",
   "metadata": {},
   "outputs": [],
   "source": [
    "array1 = np.array([1,2,3,4,5])\n",
    "array2 = np.array([6,7,8,9,0])"
   ]
  },
  {
   "cell_type": "code",
   "execution_count": 29,
   "id": "9abc582d",
   "metadata": {},
   "outputs": [
    {
     "data": {
      "text/plain": [
       "array([ 7,  9, 11, 13,  5])"
      ]
     },
     "execution_count": 29,
     "metadata": {},
     "output_type": "execute_result"
    }
   ],
   "source": [
    "# element-wise addition\n",
    "array1 + array2"
   ]
  },
  {
   "cell_type": "code",
   "execution_count": 30,
   "id": "590cae9a",
   "metadata": {},
   "outputs": [
    {
     "data": {
      "text/plain": [
       "array([-5, -5, -5, -5,  5])"
      ]
     },
     "execution_count": 30,
     "metadata": {},
     "output_type": "execute_result"
    }
   ],
   "source": [
    "# element-wise subtraction\n",
    "array1 - array2"
   ]
  },
  {
   "cell_type": "code",
   "execution_count": 31,
   "id": "c09789fb",
   "metadata": {},
   "outputs": [
    {
     "data": {
      "text/plain": [
       "array([ 6, 14, 24, 36,  0])"
      ]
     },
     "execution_count": 31,
     "metadata": {},
     "output_type": "execute_result"
    }
   ],
   "source": [
    "# element-wise multiplication\n",
    "array1 * array2"
   ]
  },
  {
   "cell_type": "code",
   "execution_count": 32,
   "id": "e62ec537",
   "metadata": {},
   "outputs": [
    {
     "name": "stderr",
     "output_type": "stream",
     "text": [
      "C:\\Users\\DELL\\AppData\\Local\\Temp\\ipykernel_19036\\1862955035.py:1: RuntimeWarning: divide by zero encountered in divide\n",
      "  array1 / array2\n"
     ]
    },
    {
     "data": {
      "text/plain": [
       "array([0.16666667, 0.28571429, 0.375     , 0.44444444,        inf])"
      ]
     },
     "execution_count": 32,
     "metadata": {},
     "output_type": "execute_result"
    }
   ],
   "source": [
    "array1 / array2"
   ]
  },
  {
   "cell_type": "markdown",
   "id": "fa644aaf",
   "metadata": {},
   "source": [
    "### Matrix Operations: \n",
    "Perform matrix multiplication, transpose a matrix, and calculate the determinant of a matrix."
   ]
  },
  {
   "cell_type": "code",
   "execution_count": 33,
   "id": "c33b3bcd",
   "metadata": {},
   "outputs": [],
   "source": [
    "matrix1 = np.array([[1, 2, 3], [4, 5, 6], [7, 8, 9]])\n",
    "matrix2 = np.array([[9, 8, 7], [6, 5, 4], [3, 2, 1]])"
   ]
  },
  {
   "cell_type": "code",
   "execution_count": 34,
   "id": "288edb3d",
   "metadata": {},
   "outputs": [
    {
     "data": {
      "text/plain": [
       "array([[ 30,  24,  18],\n",
       "       [ 84,  69,  54],\n",
       "       [138, 114,  90]])"
      ]
     },
     "execution_count": 34,
     "metadata": {},
     "output_type": "execute_result"
    }
   ],
   "source": [
    "# Matrix multiplication (dot product)\n",
    "np.dot(matrix1 , matrix2)"
   ]
  },
  {
   "cell_type": "code",
   "execution_count": 35,
   "id": "b69f85bd",
   "metadata": {},
   "outputs": [
    {
     "data": {
      "text/plain": [
       "array([[1, 4, 7],\n",
       "       [2, 5, 8],\n",
       "       [3, 6, 9]])"
      ]
     },
     "execution_count": 35,
     "metadata": {},
     "output_type": "execute_result"
    }
   ],
   "source": [
    "# Transpose a matrix\n",
    "np.transpose(matrix1)"
   ]
  },
  {
   "cell_type": "code",
   "execution_count": 37,
   "id": "7cfdd21a",
   "metadata": {},
   "outputs": [
    {
     "data": {
      "text/plain": [
       "0.0"
      ]
     },
     "execution_count": 37,
     "metadata": {},
     "output_type": "execute_result"
    }
   ],
   "source": [
    "# calulate the determinat of matrix\n",
    "np.linalg.det(matrix2)"
   ]
  },
  {
   "cell_type": "markdown",
   "id": "c2fae425",
   "metadata": {},
   "source": [
    "### Array Filtering:\n",
    "Use boolean indexing to filter elements in a NumPy array based on specific conditions."
   ]
  },
  {
   "cell_type": "code",
   "execution_count": 38,
   "id": "db055124",
   "metadata": {},
   "outputs": [],
   "source": [
    "# create  numpy array\n",
    "arr3 = np.array([1,2,3,4,5,6,7,8])"
   ]
  },
  {
   "cell_type": "code",
   "execution_count": 42,
   "id": "a12775c7",
   "metadata": {},
   "outputs": [
    {
     "data": {
      "text/plain": [
       "array([False,  True, False,  True, False,  True, False,  True, False])"
      ]
     },
     "execution_count": 42,
     "metadata": {},
     "output_type": "execute_result"
    }
   ],
   "source": [
    "# Define a condition (e.g., filter even numbers)\n",
    "arr % 2 == 0"
   ]
  },
  {
   "cell_type": "code",
   "execution_count": 43,
   "id": "fba82d82",
   "metadata": {},
   "outputs": [
    {
     "data": {
      "text/plain": [
       "array([2, 4, 6, 8])"
      ]
     },
     "execution_count": 43,
     "metadata": {},
     "output_type": "execute_result"
    }
   ],
   "source": [
    "# use boolean indexing to filter element\n",
    "arr[arr % 2 == 0]"
   ]
  },
  {
   "cell_type": "code",
   "execution_count": null,
   "id": "35cfd574",
   "metadata": {},
   "outputs": [],
   "source": []
  }
 ],
 "metadata": {
  "kernelspec": {
   "display_name": "Python 3 (ipykernel)",
   "language": "python",
   "name": "python3"
  },
  "language_info": {
   "codemirror_mode": {
    "name": "ipython",
    "version": 3
   },
   "file_extension": ".py",
   "mimetype": "text/x-python",
   "name": "python",
   "nbconvert_exporter": "python",
   "pygments_lexer": "ipython3",
   "version": "3.11.5"
  }
 },
 "nbformat": 4,
 "nbformat_minor": 5
}
